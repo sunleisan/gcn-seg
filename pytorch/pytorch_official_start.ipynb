{
 "cells": [
  {
   "cell_type": "markdown",
   "metadata": {},
   "source": [
    "动手学习-PyTorch\n",
    "[pyTorch使用教程](http://pytorchchina.com/2018/06/25/what-is-pytorch/)"
   ]
  },
  {
   "cell_type": "markdown",
   "metadata": {},
   "source": [
    "pyTorch是一个基于Python的科学计算包\n",
    "* NumPy替代品\n",
    "* 深度学习研究平台"
   ]
  },
  {
   "cell_type": "markdown",
   "metadata": {},
   "source": [
    "Tensor(张量):\n",
    "\n",
    "向量(一维概念,可以使用一维数组表示),矩阵(向量的二维概念,可以使用二维数组表示),张量(n维概念)\n"
   ]
  },
  {
   "cell_type": "code",
   "execution_count": 3,
   "metadata": {},
   "outputs": [
    {
     "name": "stdout",
     "output_type": "stream",
     "text": [
      "tensor([[7.6286e-19, 7.1758e+22, 1.4603e-19],\n        [2.0704e-19, 3.5299e-12, 1.3563e-19],\n        [1.3563e-19, 1.3563e-19, 1.3563e-19],\n        [1.3563e-19, 1.3563e-19, 1.3563e-19],\n        [1.3563e-19, 1.3563e-19, 1.3563e-19]])\n"
     ]
    }
   ],
   "source": [
    "import torch as th\n",
    "\n",
    "x = th.empty(5, 3)  # 不初始化\n",
    "print(x)"
   ]
  },
  {
   "cell_type": "code",
   "execution_count": null,
   "metadata": {},
   "outputs": [],
   "source": []
  }
 ],
 "metadata": {
  "kernelspec": {
   "display_name": "Python 2",
   "language": "python",
   "name": "python2"
  },
  "language_info": {
   "codemirror_mode": {
    "name": "ipython",
    "version": 2
   },
   "file_extension": ".py",
   "mimetype": "text/x-python",
   "name": "python",
   "nbconvert_exporter": "python",
   "pygments_lexer": "ipython2",
   "version": "2.7.6"
  }
 },
 "nbformat": 4,
 "nbformat_minor": 0
}
