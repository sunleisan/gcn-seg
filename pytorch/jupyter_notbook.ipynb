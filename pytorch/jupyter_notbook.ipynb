{
 "cells": [
  {
   "cell_type": "markdown",
   "metadata": {
    "collapsed": true
   },
   "source": [
    "# Jupyter Notbook + pyCharm\n",
    "jupyter文件与pycharm 配合实现代码与笔记的结合。\n",
    "适合动手学习系列的记录\n",
    "1. 安装jupyter notebook\n",
    "python控制台中使用pip install jupyter\n",
    "2. 启动jupyter服务\n",
    "pycharm中打开终端输入:jupyter nootbook\n",
    "自动启动浏览器,复制token\n",
    "3. 在pycahrm中创建ipynb文件使用\n",
    "\n",
    "[jupyter](http://baijiahao.baidu.com/s?id=1601883438842526311&wfr=spider&for=pc)\n",
    "[jupyter+pycharm](http://baijiahao.baidu.com/s?id=1601883438842526311&wfr=spider&for=pc)\n",
    "> 使用感受\n",
    "1. 不能点击打开链接\n",
    "2. pycharm运行ipynb体验带优化\n",
    "3. "
   ]
  },
  {
   "cell_type": "code",
   "execution_count": 1,
   "metadata": {},
   "outputs": [
    {
     "name": "stdout",
     "output_type": "stream",
     "text": [
      "第一个jupyter文件\n"
     ]
    }
   ],
   "source": [
    "print(\"第一个jupyter文件\")"
   ]
  },
  {
   "cell_type": "code",
   "execution_count": null,
   "metadata": {},
   "outputs": [],
   "source": []
  }
 ],
 "metadata": {
  "kernelspec": {
   "display_name": "Python 2",
   "language": "python",
   "name": "python2"
  },
  "language_info": {
   "codemirror_mode": {
    "name": "ipython",
    "version": 2
   },
   "file_extension": ".py",
   "mimetype": "text/x-python",
   "name": "python",
   "nbconvert_exporter": "python",
   "pygments_lexer": "ipython2",
   "version": "2.7.6"
  }
 },
 "nbformat": 4,
 "nbformat_minor": 0
}
